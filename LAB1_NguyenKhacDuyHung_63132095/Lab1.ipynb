{
 "cells": [
  {
   "cell_type": "code",
   "execution_count": 120,
   "metadata": {},
   "outputs": [
    {
     "name": "stdout",
     "output_type": "stream",
     "text": [
      "x = 5\n"
     ]
    }
   ],
   "source": [
    "x = 5\n",
    "print('x =', x)"
   ]
  },
  {
   "cell_type": "code",
   "execution_count": 121,
   "metadata": {},
   "outputs": [
    {
     "data": {
      "text/plain": [
       "5.5"
      ]
     },
     "execution_count": 121,
     "metadata": {},
     "output_type": "execute_result"
    }
   ],
   "source": [
    "x = x + 0.5\n",
    "x"
   ]
  },
  {
   "cell_type": "code",
   "execution_count": 122,
   "metadata": {},
   "outputs": [],
   "source": [
    "y = 5"
   ]
  },
  {
   "cell_type": "code",
   "execution_count": 123,
   "metadata": {},
   "outputs": [
    {
     "data": {
      "text/plain": [
       "10"
      ]
     },
     "execution_count": 123,
     "metadata": {},
     "output_type": "execute_result"
    }
   ],
   "source": [
    "z = y + 5\n",
    "z"
   ]
  },
  {
   "cell_type": "code",
   "execution_count": 124,
   "metadata": {},
   "outputs": [
    {
     "name": "stdout",
     "output_type": "stream",
     "text": [
      "10\n"
     ]
    }
   ],
   "source": [
    "if z < 5:\n",
    "    print(y)\n",
    "    z = z + y\n",
    "#thoát ra khỏi lệnh if\n",
    "print(z)"
   ]
  },
  {
   "cell_type": "code",
   "execution_count": 125,
   "metadata": {},
   "outputs": [
    {
     "data": {
      "text/plain": [
       "array([0, 1, 2, 3, 4, 5, 6, 7, 8, 9])"
      ]
     },
     "execution_count": 125,
     "metadata": {},
     "output_type": "execute_result"
    }
   ],
   "source": [
    "import numpy as np\n",
    "#Tạo danh sách mảng bắt đầu từ start đến stop\n",
    "a = np.arange(0, 10, 1)\n",
    "a"
   ]
  },
  {
   "cell_type": "code",
   "execution_count": 126,
   "metadata": {},
   "outputs": [],
   "source": [
    "myTuple = ('abc', np.arange(0,10,0.2), 2.5)"
   ]
  },
  {
   "cell_type": "code",
   "execution_count": 127,
   "metadata": {},
   "outputs": [
    {
     "data": {
      "text/plain": [
       "'abc'"
      ]
     },
     "execution_count": 127,
     "metadata": {},
     "output_type": "execute_result"
    }
   ],
   "source": [
    "myTuple[0]"
   ]
  },
  {
   "cell_type": "code",
   "execution_count": 128,
   "metadata": {},
   "outputs": [
    {
     "data": {
      "text/plain": [
       "array([0. , 0.2, 0.4, 0.6, 0.8, 1. , 1.2, 1.4, 1.6, 1.8, 2. , 2.2, 2.4,\n",
       "       2.6, 2.8, 3. , 3.2, 3.4, 3.6, 3.8, 4. , 4.2, 4.4, 4.6, 4.8, 5. ,\n",
       "       5.2, 5.4, 5.6, 5.8, 6. , 6.2, 6.4, 6.6, 6.8, 7. , 7.2, 7.4, 7.6,\n",
       "       7.8, 8. , 8.2, 8.4, 8.6, 8.8, 9. , 9.2, 9.4, 9.6, 9.8])"
      ]
     },
     "execution_count": 128,
     "metadata": {},
     "output_type": "execute_result"
    }
   ],
   "source": [
    "myTuple[1]"
   ]
  },
  {
   "cell_type": "code",
   "execution_count": 129,
   "metadata": {},
   "outputs": [
    {
     "data": {
      "text/plain": [
       "2.5"
      ]
     },
     "execution_count": 129,
     "metadata": {},
     "output_type": "execute_result"
    }
   ],
   "source": [
    "myTuple[2]"
   ]
  },
  {
   "cell_type": "code",
   "execution_count": 130,
   "metadata": {},
   "outputs": [
    {
     "data": {
      "text/html": [
       "<div>\n",
       "<style scoped>\n",
       "    .dataframe tbody tr th:only-of-type {\n",
       "        vertical-align: middle;\n",
       "    }\n",
       "\n",
       "    .dataframe tbody tr th {\n",
       "        vertical-align: top;\n",
       "    }\n",
       "\n",
       "    .dataframe thead th {\n",
       "        text-align: right;\n",
       "    }\n",
       "</style>\n",
       "<table border=\"1\" class=\"dataframe\">\n",
       "  <thead>\n",
       "    <tr style=\"text-align: right;\">\n",
       "      <th></th>\n",
       "      <th>Time</th>\n",
       "      <th>x</th>\n",
       "      <th>y</th>\n",
       "    </tr>\n",
       "  </thead>\n",
       "  <tbody>\n",
       "    <tr>\n",
       "      <th>0</th>\n",
       "      <td>0.0</td>\n",
       "      <td>0.000000</td>\n",
       "      <td>1.000000</td>\n",
       "    </tr>\n",
       "    <tr>\n",
       "      <th>1</th>\n",
       "      <td>0.1</td>\n",
       "      <td>0.099833</td>\n",
       "      <td>0.995004</td>\n",
       "    </tr>\n",
       "    <tr>\n",
       "      <th>2</th>\n",
       "      <td>0.2</td>\n",
       "      <td>0.198669</td>\n",
       "      <td>0.980067</td>\n",
       "    </tr>\n",
       "    <tr>\n",
       "      <th>3</th>\n",
       "      <td>0.3</td>\n",
       "      <td>0.295520</td>\n",
       "      <td>0.955336</td>\n",
       "    </tr>\n",
       "    <tr>\n",
       "      <th>4</th>\n",
       "      <td>0.4</td>\n",
       "      <td>0.389418</td>\n",
       "      <td>0.921061</td>\n",
       "    </tr>\n",
       "    <tr>\n",
       "      <th>...</th>\n",
       "      <td>...</td>\n",
       "      <td>...</td>\n",
       "      <td>...</td>\n",
       "    </tr>\n",
       "    <tr>\n",
       "      <th>995</th>\n",
       "      <td>99.5</td>\n",
       "      <td>-0.857795</td>\n",
       "      <td>0.513991</td>\n",
       "    </tr>\n",
       "    <tr>\n",
       "      <th>996</th>\n",
       "      <td>99.6</td>\n",
       "      <td>-0.802196</td>\n",
       "      <td>0.597060</td>\n",
       "    </tr>\n",
       "    <tr>\n",
       "      <th>997</th>\n",
       "      <td>99.7</td>\n",
       "      <td>-0.738582</td>\n",
       "      <td>0.674163</td>\n",
       "    </tr>\n",
       "    <tr>\n",
       "      <th>998</th>\n",
       "      <td>99.8</td>\n",
       "      <td>-0.667588</td>\n",
       "      <td>0.744531</td>\n",
       "    </tr>\n",
       "    <tr>\n",
       "      <th>999</th>\n",
       "      <td>99.9</td>\n",
       "      <td>-0.589924</td>\n",
       "      <td>0.807459</td>\n",
       "    </tr>\n",
       "  </tbody>\n",
       "</table>\n",
       "<p>1000 rows × 3 columns</p>\n",
       "</div>"
      ],
      "text/plain": [
       "     Time         x         y\n",
       "0     0.0  0.000000  1.000000\n",
       "1     0.1  0.099833  0.995004\n",
       "2     0.2  0.198669  0.980067\n",
       "3     0.3  0.295520  0.955336\n",
       "4     0.4  0.389418  0.921061\n",
       "..    ...       ...       ...\n",
       "995  99.5 -0.857795  0.513991\n",
       "996  99.6 -0.802196  0.597060\n",
       "997  99.7 -0.738582  0.674163\n",
       "998  99.8 -0.667588  0.744531\n",
       "999  99.9 -0.589924  0.807459\n",
       "\n",
       "[1000 rows x 3 columns]"
      ]
     },
     "execution_count": 130,
     "metadata": {},
     "output_type": "execute_result"
    }
   ],
   "source": [
    "#Tạo dataframe\n",
    "import numpy as np\n",
    "import pandas as pd\n",
    "\n",
    "t = np.arange(0, 100, 0.1)\n",
    "x = np.sin(t)\n",
    "y = np.cos(t)\n",
    "#'Tên_cột':giá_Trị\n",
    "dframe = pd.DataFrame({'Time': t, 'x': x, 'y': y})\n",
    "dframe"
   ]
  },
  {
   "cell_type": "code",
   "execution_count": 131,
   "metadata": {},
   "outputs": [
    {
     "data": {
      "text/html": [
       "<div>\n",
       "<style scoped>\n",
       "    .dataframe tbody tr th:only-of-type {\n",
       "        vertical-align: middle;\n",
       "    }\n",
       "\n",
       "    .dataframe tbody tr th {\n",
       "        vertical-align: top;\n",
       "    }\n",
       "\n",
       "    .dataframe thead th {\n",
       "        text-align: right;\n",
       "    }\n",
       "</style>\n",
       "<table border=\"1\" class=\"dataframe\">\n",
       "  <thead>\n",
       "    <tr style=\"text-align: right;\">\n",
       "      <th></th>\n",
       "      <th>Time</th>\n",
       "      <th>x</th>\n",
       "      <th>y</th>\n",
       "    </tr>\n",
       "  </thead>\n",
       "  <tbody>\n",
       "    <tr>\n",
       "      <th>0</th>\n",
       "      <td>0.0</td>\n",
       "      <td>0.000000</td>\n",
       "      <td>1.000000</td>\n",
       "    </tr>\n",
       "    <tr>\n",
       "      <th>1</th>\n",
       "      <td>0.1</td>\n",
       "      <td>0.099833</td>\n",
       "      <td>0.995004</td>\n",
       "    </tr>\n",
       "    <tr>\n",
       "      <th>2</th>\n",
       "      <td>0.2</td>\n",
       "      <td>0.198669</td>\n",
       "      <td>0.980067</td>\n",
       "    </tr>\n",
       "  </tbody>\n",
       "</table>\n",
       "</div>"
      ],
      "text/plain": [
       "   Time         x         y\n",
       "0   0.0  0.000000  1.000000\n",
       "1   0.1  0.099833  0.995004\n",
       "2   0.2  0.198669  0.980067"
      ]
     },
     "execution_count": 131,
     "metadata": {},
     "output_type": "execute_result"
    }
   ],
   "source": [
    "dframe.head(3) #mặc định 5 dòng đầu\n",
    "#dframe.head(3) #xuất 3 dòng đầu tiên\n",
    "#dframe.tail() #xuất 5 dòng cuối cùng"
   ]
  },
  {
   "cell_type": "code",
   "execution_count": 132,
   "metadata": {},
   "outputs": [
    {
     "data": {
      "text/html": [
       "<div>\n",
       "<style scoped>\n",
       "    .dataframe tbody tr th:only-of-type {\n",
       "        vertical-align: middle;\n",
       "    }\n",
       "\n",
       "    .dataframe tbody tr th {\n",
       "        vertical-align: top;\n",
       "    }\n",
       "\n",
       "    .dataframe thead th {\n",
       "        text-align: right;\n",
       "    }\n",
       "</style>\n",
       "<table border=\"1\" class=\"dataframe\">\n",
       "  <thead>\n",
       "    <tr style=\"text-align: right;\">\n",
       "      <th></th>\n",
       "      <th>Time</th>\n",
       "      <th>x</th>\n",
       "      <th>y</th>\n",
       "    </tr>\n",
       "  </thead>\n",
       "  <tbody>\n",
       "    <tr>\n",
       "      <th>3</th>\n",
       "      <td>0.3</td>\n",
       "      <td>0.295520</td>\n",
       "      <td>0.955336</td>\n",
       "    </tr>\n",
       "    <tr>\n",
       "      <th>4</th>\n",
       "      <td>0.4</td>\n",
       "      <td>0.389418</td>\n",
       "      <td>0.921061</td>\n",
       "    </tr>\n",
       "    <tr>\n",
       "      <th>5</th>\n",
       "      <td>0.5</td>\n",
       "      <td>0.479426</td>\n",
       "      <td>0.877583</td>\n",
       "    </tr>\n",
       "  </tbody>\n",
       "</table>\n",
       "</div>"
      ],
      "text/plain": [
       "   Time         x         y\n",
       "3   0.3  0.295520  0.955336\n",
       "4   0.4  0.389418  0.921061\n",
       "5   0.5  0.479426  0.877583"
      ]
     },
     "execution_count": 132,
     "metadata": {},
     "output_type": "execute_result"
    }
   ],
   "source": [
    "dframe[3:6] #in ra các dòng từ start đến stop - 1"
   ]
  },
  {
   "cell_type": "code",
   "execution_count": 133,
   "metadata": {},
   "outputs": [
    {
     "data": {
      "text/html": [
       "<div>\n",
       "<style scoped>\n",
       "    .dataframe tbody tr th:only-of-type {\n",
       "        vertical-align: middle;\n",
       "    }\n",
       "\n",
       "    .dataframe tbody tr th {\n",
       "        vertical-align: top;\n",
       "    }\n",
       "\n",
       "    .dataframe thead th {\n",
       "        text-align: right;\n",
       "    }\n",
       "</style>\n",
       "<table border=\"1\" class=\"dataframe\">\n",
       "  <thead>\n",
       "    <tr style=\"text-align: right;\">\n",
       "      <th></th>\n",
       "      <th>Time</th>\n",
       "      <th>x</th>\n",
       "    </tr>\n",
       "  </thead>\n",
       "  <tbody>\n",
       "    <tr>\n",
       "      <th>3</th>\n",
       "      <td>0.3</td>\n",
       "      <td>0.295520</td>\n",
       "    </tr>\n",
       "    <tr>\n",
       "      <th>4</th>\n",
       "      <td>0.4</td>\n",
       "      <td>0.389418</td>\n",
       "    </tr>\n",
       "    <tr>\n",
       "      <th>5</th>\n",
       "      <td>0.5</td>\n",
       "      <td>0.479426</td>\n",
       "    </tr>\n",
       "  </tbody>\n",
       "</table>\n",
       "</div>"
      ],
      "text/plain": [
       "   Time         x\n",
       "3   0.3  0.295520\n",
       "4   0.4  0.389418\n",
       "5   0.5  0.479426"
      ]
     },
     "execution_count": 133,
     "metadata": {},
     "output_type": "execute_result"
    }
   ],
   "source": [
    "# dframe['Time']\n",
    "#Cách 2. dframe.Time\n",
    "dframe['Time'][3:4]\n",
    "#mảng nằm trong [gt1, gt2]\n",
    "dframe[['Time', 'x']]\n",
    "dframe[['Time', 'x']].tail()\n",
    "dframe[['Time', 'x']][3:6]"
   ]
  },
  {
   "cell_type": "code",
   "execution_count": 137,
   "metadata": {},
   "outputs": [
    {
     "name": "stderr",
     "output_type": "stream",
     "text": [
      "C:\\Users\\HungNguyen\\AppData\\Local\\Temp\\ipykernel_6724\\734741097.py:2: FutureWarning: The 'delim_whitespace' keyword in pd.read_csv is deprecated and will be removed in a future version. Use ``sep='\\s+'`` instead\n",
      "  data = pd.read_csv('babies.txt', delim_whitespace=True)\n"
     ]
    },
    {
     "data": {
      "text/html": [
       "<div>\n",
       "<style scoped>\n",
       "    .dataframe tbody tr th:only-of-type {\n",
       "        vertical-align: middle;\n",
       "    }\n",
       "\n",
       "    .dataframe tbody tr th {\n",
       "        vertical-align: top;\n",
       "    }\n",
       "\n",
       "    .dataframe thead th {\n",
       "        text-align: right;\n",
       "    }\n",
       "</style>\n",
       "<table border=\"1\" class=\"dataframe\">\n",
       "  <thead>\n",
       "    <tr style=\"text-align: right;\">\n",
       "      <th></th>\n",
       "      <th>bwt</th>\n",
       "      <th>smoke</th>\n",
       "    </tr>\n",
       "  </thead>\n",
       "  <tbody>\n",
       "    <tr>\n",
       "      <th>2</th>\n",
       "      <td>128</td>\n",
       "      <td>1</td>\n",
       "    </tr>\n",
       "    <tr>\n",
       "      <th>4</th>\n",
       "      <td>108</td>\n",
       "      <td>1</td>\n",
       "    </tr>\n",
       "    <tr>\n",
       "      <th>9</th>\n",
       "      <td>143</td>\n",
       "      <td>1</td>\n",
       "    </tr>\n",
       "    <tr>\n",
       "      <th>11</th>\n",
       "      <td>144</td>\n",
       "      <td>1</td>\n",
       "    </tr>\n",
       "    <tr>\n",
       "      <th>12</th>\n",
       "      <td>141</td>\n",
       "      <td>1</td>\n",
       "    </tr>\n",
       "    <tr>\n",
       "      <th>...</th>\n",
       "      <td>...</td>\n",
       "      <td>...</td>\n",
       "    </tr>\n",
       "    <tr>\n",
       "      <th>1224</th>\n",
       "      <td>143</td>\n",
       "      <td>1</td>\n",
       "    </tr>\n",
       "    <tr>\n",
       "      <th>1225</th>\n",
       "      <td>113</td>\n",
       "      <td>1</td>\n",
       "    </tr>\n",
       "    <tr>\n",
       "      <th>1226</th>\n",
       "      <td>109</td>\n",
       "      <td>1</td>\n",
       "    </tr>\n",
       "    <tr>\n",
       "      <th>1227</th>\n",
       "      <td>103</td>\n",
       "      <td>1</td>\n",
       "    </tr>\n",
       "    <tr>\n",
       "      <th>1233</th>\n",
       "      <td>130</td>\n",
       "      <td>1</td>\n",
       "    </tr>\n",
       "  </tbody>\n",
       "</table>\n",
       "<p>484 rows × 2 columns</p>\n",
       "</div>"
      ],
      "text/plain": [
       "      bwt  smoke\n",
       "2     128      1\n",
       "4     108      1\n",
       "9     143      1\n",
       "11    144      1\n",
       "12    141      1\n",
       "...   ...    ...\n",
       "1224  143      1\n",
       "1225  113      1\n",
       "1226  109      1\n",
       "1227  103      1\n",
       "1233  130      1\n",
       "\n",
       "[484 rows x 2 columns]"
      ]
     },
     "execution_count": 137,
     "metadata": {},
     "output_type": "execute_result"
    }
   ],
   "source": [
    "#Đọc dữ liệu từ file .txt\n",
    "data = pd.read_csv('babies.txt', delim_whitespace=True)\n",
    "dframe = data[['bwt','smoke']]\n",
    "dframe\n",
    "dframe.head()\n",
    "dframe[3:7]\n",
    "\n",
    "#Lọc các dòng có cột smoke = 1\n",
    "dframe_cohutThuoc = data[data['smoke'] == 1]\n",
    "dframe_cohutThuoc"
   ]
  },
  {
   "cell_type": "code",
   "execution_count": 138,
   "metadata": {},
   "outputs": [
    {
     "data": {
      "text/html": [
       "<div>\n",
       "<style scoped>\n",
       "    .dataframe tbody tr th:only-of-type {\n",
       "        vertical-align: middle;\n",
       "    }\n",
       "\n",
       "    .dataframe tbody tr th {\n",
       "        vertical-align: top;\n",
       "    }\n",
       "\n",
       "    .dataframe thead th {\n",
       "        text-align: right;\n",
       "    }\n",
       "</style>\n",
       "<table border=\"1\" class=\"dataframe\">\n",
       "  <thead>\n",
       "    <tr style=\"text-align: right;\">\n",
       "      <th></th>\n",
       "      <th>bwt</th>\n",
       "      <th>smoke</th>\n",
       "    </tr>\n",
       "  </thead>\n",
       "  <tbody>\n",
       "    <tr>\n",
       "      <th>0</th>\n",
       "      <td>120</td>\n",
       "      <td>0</td>\n",
       "    </tr>\n",
       "    <tr>\n",
       "      <th>1</th>\n",
       "      <td>113</td>\n",
       "      <td>0</td>\n",
       "    </tr>\n",
       "    <tr>\n",
       "      <th>3</th>\n",
       "      <td>123</td>\n",
       "      <td>0</td>\n",
       "    </tr>\n",
       "    <tr>\n",
       "      <th>5</th>\n",
       "      <td>136</td>\n",
       "      <td>0</td>\n",
       "    </tr>\n",
       "    <tr>\n",
       "      <th>6</th>\n",
       "      <td>138</td>\n",
       "      <td>0</td>\n",
       "    </tr>\n",
       "    <tr>\n",
       "      <th>...</th>\n",
       "      <td>...</td>\n",
       "      <td>...</td>\n",
       "    </tr>\n",
       "    <tr>\n",
       "      <th>1230</th>\n",
       "      <td>132</td>\n",
       "      <td>0</td>\n",
       "    </tr>\n",
       "    <tr>\n",
       "      <th>1231</th>\n",
       "      <td>113</td>\n",
       "      <td>0</td>\n",
       "    </tr>\n",
       "    <tr>\n",
       "      <th>1232</th>\n",
       "      <td>128</td>\n",
       "      <td>0</td>\n",
       "    </tr>\n",
       "    <tr>\n",
       "      <th>1234</th>\n",
       "      <td>125</td>\n",
       "      <td>0</td>\n",
       "    </tr>\n",
       "    <tr>\n",
       "      <th>1235</th>\n",
       "      <td>117</td>\n",
       "      <td>0</td>\n",
       "    </tr>\n",
       "  </tbody>\n",
       "</table>\n",
       "<p>742 rows × 2 columns</p>\n",
       "</div>"
      ],
      "text/plain": [
       "      bwt  smoke\n",
       "0     120      0\n",
       "1     113      0\n",
       "3     123      0\n",
       "5     136      0\n",
       "6     138      0\n",
       "...   ...    ...\n",
       "1230  132      0\n",
       "1231  113      0\n",
       "1232  128      0\n",
       "1234  125      0\n",
       "1235  117      0\n",
       "\n",
       "[742 rows x 2 columns]"
      ]
     },
     "execution_count": 138,
     "metadata": {},
     "output_type": "execute_result"
    }
   ],
   "source": [
    "#Lọc các dòng có cột smoke = 0\n",
    "dframe_khonghutThuoc = data[data['smoke'] == 0]\n",
    "dframe_khonghutThuoc"
   ]
  },
  {
   "cell_type": "code",
   "execution_count": 139,
   "metadata": {},
   "outputs": [
    {
     "data": {
      "text/plain": [
       "array([128, 108, 143, 144, 141, 110,  92, 115, 119, 115, 103, 114, 114,\n",
       "       134, 122, 138,  87, 143, 145, 108, 124, 122, 101, 128, 104, 137,\n",
       "       103, 133,  91, 153,  99, 114, 129, 125, 114,  85,  87, 120, 107,\n",
       "       119, 103,  91,  95, 141, 100, 115,  94, 101, 112, 128,  93, 100,\n",
       "       105, 160, 113, 129, 118, 133, 116, 113, 131, 121, 122, 101, 113,\n",
       "       131,  96, 142,  75, 125, 104, 118,  98, 150, 119, 101, 113,  97,\n",
       "       115, 121, 117, 110, 130, 140, 111, 154, 122, 144, 114, 111, 154,\n",
       "       150,  99, 117, 130,  81, 124, 125, 115, 104, 119, 123, 141, 129,\n",
       "       119, 109, 104, 110,  98, 136, 121,  91,  85, 106, 109,  98, 101,\n",
       "        71, 124,  93, 101, 100, 104, 117, 117, 117, 109, 120, 103, 123,\n",
       "       104, 122, 116, 129, 133, 122, 133, 130, 106, 121, 140, 120, 127,\n",
       "        71, 107, 129, 145, 102, 129, 135, 104, 126, 127,  98, 131,  99,\n",
       "       115, 102, 143,  87, 130, 123, 116, 144, 120, 116, 112, 132, 146,\n",
       "       119, 100, 118, 129, 122, 117, 144, 115,  99,  68, 102, 109, 102,\n",
       "        99, 128, 101, 109, 117,  88,  95, 119, 127, 107, 126,  98,  96,\n",
       "        93, 101, 130, 125, 132,  69, 114, 123, 129, 114, 119, 119, 131,\n",
       "       114, 110, 103, 117, 126, 132, 101, 114, 108, 123, 113,  93, 130,\n",
       "       111,  97, 107, 105, 133, 161, 115, 127, 128, 117, 119,  91, 116,\n",
       "       126,  98, 103, 117, 115, 118, 144,  85, 130, 117, 135, 115, 123,\n",
       "       154, 110, 104, 123, 129, 108, 103, 127, 107, 106, 152, 136, 123,\n",
       "        93, 109, 120, 129, 125,  96, 138, 114, 127, 113,  99,  97, 126,\n",
       "       119, 117, 131, 118, 109, 131, 134, 128,  86, 115, 141, 100, 114,\n",
       "       120,  95,  90, 131, 103, 144,  86, 136,  92, 129, 105, 125, 115,\n",
       "       111, 143, 116, 110,  87, 132, 105, 123, 104,  96,  83,  86, 110,\n",
       "        84, 123,  96, 117, 125, 114,  96, 107,  98, 107, 144, 136, 125,\n",
       "       100,  88,  77,  93, 109, 145,  92, 111, 134, 100, 134, 145, 126,\n",
       "       119, 103, 116, 102, 121, 100, 116,  86,  87,  88,  96, 112, 115,\n",
       "       122, 127,  90,  58, 109, 142, 115, 163,  77, 124, 102,  94, 112,\n",
       "       119,  97, 115, 144,  99, 106, 121, 123, 139, 105, 146, 122, 138,\n",
       "       120, 119, 105, 123, 103, 105, 139, 104, 118,  99, 121, 125, 100,\n",
       "       117, 122, 118, 137, 120, 108, 131, 105,  78, 111,  75,  94, 145,\n",
       "       109, 115, 120,  96, 102,  91, 155, 109,  80,  94, 148, 123,  65,\n",
       "       108, 103, 105, 100, 115,  91, 112, 119, 126, 100,  96, 131, 108,\n",
       "       113, 133, 127, 102, 120,  98, 104, 122,  99, 117, 106, 156,  72,\n",
       "        75,  97,  91, 117, 130, 114, 160,  84, 130,  71,  82, 124, 138,\n",
       "        88,  82,  97, 116, 132, 119, 106, 103, 112,  96, 102, 120,  97,\n",
       "        97, 127,  87, 141, 116,  75, 152,  81, 114, 124, 115, 143, 113,\n",
       "       109, 103, 130], dtype=int64)"
      ]
     },
     "execution_count": 139,
     "metadata": {},
     "output_type": "execute_result"
    }
   ],
   "source": [
    "#Lọc các dòng có cột smoke = 1\n",
    "dframe_cohutThuoc = data[data['smoke'] == 1]\n",
    "#Tạo mảng lấy dữ liệu cột bwt của dframe_cohutThuoc\n",
    "arr_cohutThuoc = dframe_cohutThuoc['bwt'].to_numpy()\n",
    "arr_cohutThuoc"
   ]
  },
  {
   "cell_type": "code",
   "execution_count": 140,
   "metadata": {},
   "outputs": [
    {
     "data": {
      "text/plain": [
       "array([120, 113, 123, 136, 138, 132, 120, 140, 114, 115, 144, 105, 137,\n",
       "       122, 131, 146, 125, 122,  93, 130, 119, 113, 134, 107, 128, 129,\n",
       "       110, 111, 155, 110, 122, 115, 102, 143, 146, 124, 145, 106,  75,\n",
       "       107, 124,  97, 142, 130, 156, 120, 127, 121, 120, 149, 129, 139,\n",
       "       138, 138, 131, 128, 134, 114,  92, 135, 125, 128, 105, 119, 116,\n",
       "       133, 155, 126, 129, 137, 125, 134, 118, 131, 121, 131, 118, 152,\n",
       "       121, 117, 112, 109, 132, 117, 128, 117, 134, 127, 122, 147, 120,\n",
       "       144, 136, 102, 126, 126, 115, 127, 119, 123, 105, 134, 144, 111,\n",
       "       125, 135, 134, 129, 121, 138, 136, 120, 134, 112, 132, 136,  96,\n",
       "       124, 113, 137, 133, 107, 136, 130,  90, 123, 137, 101, 142, 124,\n",
       "       151, 109, 131, 127, 117, 150,  85, 128, 105, 107, 119, 134, 117,\n",
       "       115,  93, 125,  93, 129, 126,  85, 173, 111, 126, 122, 141, 142,\n",
       "       113, 149, 128, 125, 114, 116, 125, 110, 138, 142, 102, 140, 133,\n",
       "       127, 152, 143, 131, 113, 131, 148, 137, 117, 115, 132, 119, 132,\n",
       "        80, 111, 143, 136, 110, 108, 106, 149, 135, 110, 121, 142, 104,\n",
       "       138, 112, 131, 116, 140, 120, 139, 131, 111, 110, 105,  93, 104,\n",
       "       120, 118, 114, 116, 129, 107,  88, 122, 106, 135, 107, 126, 116,\n",
       "       124, 123,  98, 110, 101,  96, 100, 154, 127, 126, 127, 129, 132,\n",
       "       127, 145, 136, 121, 121, 120, 118, 127, 132, 102, 118, 102, 163,\n",
       "       132, 116, 138, 139, 132, 131, 115, 119, 125, 123, 120, 140, 120,\n",
       "       146, 122, 128, 135, 116, 129, 116, 138, 123, 113, 132, 120, 114,\n",
       "       130, 142, 127,  85, 123, 112,  78, 107, 136, 100, 123, 124, 104,\n",
       "       133, 118, 140, 115, 130, 114, 105, 101, 112, 115,  98, 128, 154,\n",
       "       127, 129, 138, 124, 111, 103, 158, 146, 132,  71, 116, 129, 134,\n",
       "       123, 147, 121, 125, 115, 101, 109, 115, 123, 122, 124, 129, 124,\n",
       "       142, 129, 174, 103, 124, 105, 105, 108, 153, 133, 123, 141, 116,\n",
       "       121, 111, 102, 118, 131, 115, 147, 123, 125,  99, 116, 170, 104,\n",
       "       108,  99,  97, 109, 147, 105, 105, 119, 103, 117, 120, 145, 124,\n",
       "        91, 109,  79, 133, 114, 128, 129,  97, 176, 143, 113, 150, 124,\n",
       "       119, 122, 112, 136, 121, 150,  94, 146, 124, 141, 127, 103, 116,\n",
       "       123, 129, 100, 146,  84, 115, 115,  91, 112, 115, 110, 117,  99,\n",
       "       136, 130, 150,  78, 116, 110, 109, 113, 136, 121, 117, 166,  87,\n",
       "       132, 137, 124, 136, 117, 121, 116, 139, 110, 133,  81, 133, 132,\n",
       "       132, 137,  84, 114, 167,  71, 124, 155, 125, 125, 115, 174, 127,\n",
       "       113, 139, 127, 112, 155, 121, 129,  91, 147, 144, 128, 137, 120,\n",
       "       112, 138, 134, 126, 112, 138, 110, 112, 148, 119, 126, 125, 136,\n",
       "       127, 131, 110, 123, 152, 127, 139, 124, 113, 119, 117, 117, 121,\n",
       "       165, 120, 137, 134, 108, 123, 141, 130, 139, 130, 113,  62, 120,\n",
       "       135, 113, 126, 143, 128,  98, 110, 162, 116, 128, 137, 160, 112,\n",
       "       116, 111, 126, 109, 136, 124, 155, 122, 113, 122, 126, 110, 133,\n",
       "       125, 164, 133, 135, 124, 122, 129,  90, 128, 123, 128, 120, 125,\n",
       "       118, 116, 131, 151, 137, 127, 129, 128,  85, 111, 124,  72, 116,\n",
       "        99, 144, 138, 110, 129, 150, 128, 115, 108, 139, 136, 131, 104,\n",
       "       158,  99, 139, 105,  89, 129, 119, 114, 122, 136, 112, 112, 125,\n",
       "       130, 133, 147, 109, 135, 107, 117, 118, 113, 136, 148, 140, 134,\n",
       "       120, 102,  55, 123, 138, 128, 159, 144, 117, 119, 105, 119, 101,\n",
       "       105, 110,  98, 127, 122, 143, 110, 133, 125, 114, 103, 114, 169,\n",
       "       150, 144, 144, 143, 121, 105, 134, 129, 114,  97, 160,  65, 145,\n",
       "        95, 139, 123, 110, 122, 117, 108, 131, 136, 125, 102, 112, 135,\n",
       "       129, 125,  73, 118, 102, 120, 122, 126, 145, 139, 124, 121, 126,\n",
       "       119, 114, 118, 127, 117, 137, 133, 107, 125, 157, 108, 130, 135,\n",
       "       123, 100, 124, 174, 129, 128, 116, 110, 129, 141, 110, 118, 111,\n",
       "       160, 120, 121, 117, 158, 128, 158, 163, 128, 126, 134, 140, 100,\n",
       "       130, 137, 114,  63,  98,  89, 143,  99, 106, 117, 112, 112, 141,\n",
       "       131, 132, 106, 112, 139, 104, 119, 123, 115, 146, 128, 100, 114,\n",
       "       126, 122, 152,  84, 104, 124, 139, 102, 113, 130, 116, 114, 144,\n",
       "       138,  99, 118,  97, 146, 110, 135, 118, 127, 132, 113, 128, 125,\n",
       "       117], dtype=int64)"
      ]
     },
     "execution_count": 140,
     "metadata": {},
     "output_type": "execute_result"
    }
   ],
   "source": [
    "#Lọc các dòng có cột smoke = 0\n",
    "dframe_khonghutThuoc = data[data['smoke'] == 0]\n",
    "#Tạo mảng lấy dữ liệu cột bwt của dframe_khonghutThuoc\n",
    "arr_khonghutThuoc = dframe_khonghutThuoc['bwt'].to_numpy()\n",
    "arr_khonghutThuoc"
   ]
  },
  {
   "cell_type": "code",
   "execution_count": 144,
   "metadata": {},
   "outputs": [
    {
     "name": "stdout",
     "output_type": "stream",
     "text": [
      "      Red  Orange  Yellow  Brown   Blue  Green\n",
      "0   0.751   0.735   0.883  0.696  0.881  0.925\n",
      "1   0.841   0.895   0.769  0.876  0.863  0.914\n",
      "2   0.856   0.865   0.859  0.855  0.775  0.881\n",
      "3   0.799   0.864   0.784  0.806  0.854  0.865\n",
      "4   0.966   0.852   0.824  0.840  0.810  0.865\n",
      "5   0.859   0.866   0.858  0.868  0.858  1.015\n",
      "6   0.857   0.859   0.848  0.859  0.818  0.876\n",
      "7   0.942   0.838   0.851  0.982  0.868  0.809\n",
      "8   0.873   0.863     NaN    NaN  0.803  0.865\n",
      "9   0.809   0.888     NaN    NaN  0.932  0.848\n",
      "10  0.890   0.925     NaN    NaN  0.842  0.940\n",
      "11  0.878   0.793     NaN    NaN  0.832  0.833\n",
      "12  0.905   0.977     NaN    NaN  0.807  0.845\n",
      "13    NaN   0.850     NaN    NaN  0.841  0.852\n",
      "14    NaN   0.830     NaN    NaN  0.932  0.778\n",
      "15    NaN   0.856     NaN    NaN  0.833  0.814\n",
      "16    NaN   0.842     NaN    NaN  0.881  0.791\n",
      "17    NaN   0.778     NaN    NaN  0.818  0.810\n",
      "18    NaN   0.786     NaN    NaN  0.864  0.881\n",
      "19    NaN   0.853     NaN    NaN  0.825    NaN\n",
      "20    NaN   0.864     NaN    NaN  0.855    NaN\n",
      "21    NaN   0.873     NaN    NaN  0.942    NaN\n",
      "22    NaN   0.880     NaN    NaN  0.825    NaN\n",
      "23    NaN   0.882     NaN    NaN  0.869    NaN\n",
      "24    NaN   0.931     NaN    NaN  0.912    NaN\n",
      "25    NaN     NaN     NaN    NaN  0.887    NaN\n",
      "26    NaN     NaN     NaN    NaN  0.886    NaN\n"
     ]
    }
   ],
   "source": [
    "import pandas as pd\n",
    "import numpy as np\n",
    "data = pd.read_excel('18_M&M.xls')\n",
    "print(data)\n"
   ]
  }
 ],
 "metadata": {
  "kernelspec": {
   "display_name": "Python 3",
   "language": "python",
   "name": "python3"
  },
  "language_info": {
   "codemirror_mode": {
    "name": "ipython",
    "version": 3
   },
   "file_extension": ".py",
   "mimetype": "text/x-python",
   "name": "python",
   "nbconvert_exporter": "python",
   "pygments_lexer": "ipython3",
   "version": "3.12.6"
  }
 },
 "nbformat": 4,
 "nbformat_minor": 2
}
