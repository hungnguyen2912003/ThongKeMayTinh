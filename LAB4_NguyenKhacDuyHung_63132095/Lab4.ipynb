{
 "cells": [
  {
   "cell_type": "code",
   "execution_count": 1,
   "metadata": {},
   "outputs": [],
   "source": [
    "#Khai báo thư viện\n",
    "import numpy as np\n",
    "import matplotlib.pyplot as plt\n",
    "import pandas as pd\n",
    "import scipy.stats as st\n",
    "from scipy.stats import norm"
   ]
  },
  {
   "cell_type": "code",
   "execution_count": 2,
   "metadata": {},
   "outputs": [
    {
     "name": "stdout",
     "output_type": "stream",
     "text": [
      "Tỷ lệ mẫu của M&M có màu xanh lá: 19.00%\n",
      "Khoảng tin cậy 95% của tỉ lệ màu xanh lá: [11.31%, 26.69%]\n",
      "Kết quả nhất quán với tỉ lệ 16% của nhà sản xuất. Vì tỉ lệ 16% nằm trong khoảng tin cậy\n"
     ]
    }
   ],
   "source": [
    "#Bài 1\n",
    "data = pd.read_excel('18_M&M.xls')\n",
    "#---Tìm tỉ lệ mẫu của M&M có màu xanh lá Green\n",
    "keo_xanh_la = data['Green'].count()\n",
    "tong_so_keo = data['Red'].count() + data['Blue'].count() + data['Brown'].count() + data['Green'].count() + data['Orange'].count() + data['Yellow'].count()\n",
    "p = keo_xanh_la / tong_so_keo\n",
    "print(f\"Tỷ lệ mẫu của M&M có màu xanh lá: {p*100:.2f}%\")\n",
    "\n",
    "#---Sử dụng kết quả để xây dựng 1 ước lượng khoảng tin cậy 95% của % quần thể M&M có màu xanh lá\n",
    "# Giá trị Z cho khoảng tin cậy 95%\n",
    "z_alpha_chia2 = 1.96\n",
    "e = z_alpha_chia2 * np.sqrt(p * (1 - p) / tong_so_keo)\n",
    "\n",
    "print(f\"Khoảng tin cậy 95% của tỉ lệ màu xanh lá: [{(p-e)*100:.2f}%, {(p+e)*100:.2f}%]\")\n",
    "\n",
    "# Kiểm tra tính nhất quán với tỉ lệ 16% của nhà sản xuất\n",
    "tyle_nsx = 0.16\n",
    "nhat_quan = p-e <= tyle_nsx <= p+e\n",
    "if nhat_quan:\n",
    "    print(\"Kết quả nhất quán với tỉ lệ 16% của nhà sản xuất. Vì tỉ lệ 16% nằm trong khoảng tin cậy\")\n",
    "else:\n",
    "    print(\"Kết quả không nhất quán với tỉ lệ 16% của nhà sản xuất. Vì tỉ lệ 16% không nằm trong khoảng tin cậy\")"
   ]
  },
  {
   "cell_type": "code",
   "execution_count": 3,
   "metadata": {},
   "outputs": [
    {
     "name": "stdout",
     "output_type": "stream",
     "text": [
      "\n",
      "Tỷ lệ phần trăm sinh viên tăng cân trong năm thứ nhất là: 67.16%\n",
      "Khoảng tin cậy 95% của tỉ lệ các sinh viên cao đẳng tăng cân trong năm thứ nhất: [55.92%, 78.41%]\n",
      "\n"
     ]
    }
   ],
   "source": [
    "#Bài 2\n",
    "# Đọc dữ liệu từ file Excel\n",
    "data = pd.read_excel('03_FRESH15.xls')\n",
    "\n",
    "# a. Tìm ước lượng điểm tốt nhất của tỉ lệ phần trăm các sinh viên cao đẳng tăng cân\n",
    "can_nang_thay_doi = data['WTAPR'] - data['WTSEP']\n",
    "so_sv_tang = (can_nang_thay_doi > 0).sum()\n",
    "tong_so_sv = len(data)\n",
    "ty_le_tang_can = (so_sv_tang / tong_so_sv)  # Tỷ lệ phần trăm sinh viên tăng cân\n",
    "\n",
    "# b. Xây dựng ước lượng khoảng tin cậy 95% về tỷ lệ phần trăm sinh viên tăng cân\n",
    "p = ty_le_tang_can  # ước lượng tỷ lệ sinh viên tăng cân\n",
    "\n",
    "# Dùng công thức tính khoảng tin cậy cho tỷ lệ phần trăm\n",
    "z_alpha_chia2 = 1.96  # Giá trị Z cho mức tin cậy 95%\n",
    "e = z_alpha_chia2 * np.sqrt((p * (1 - p)) / tong_so_sv)  # Độ lệch chuẩn\n",
    "\n",
    "# c. Viết phát biểu mô tả kết quả\n",
    "bao_cao = f\"\"\"\n",
    "Tỷ lệ phần trăm sinh viên tăng cân trong năm thứ nhất là: {ty_le_tang_can*100:.2f}%\n",
    "Khoảng tin cậy 95% của tỉ lệ các sinh viên cao đẳng tăng cân trong năm thứ nhất: [{(p-e)*100:.2f}%, {(p+e)*100:.2f}%]\n",
    "\"\"\"\n",
    "\n",
    "# In báo cáo\n",
    "print(bao_cao)\n"
   ]
  },
  {
   "cell_type": "code",
   "execution_count": 4,
   "metadata": {},
   "outputs": [
    {
     "name": "stdout",
     "output_type": "stream",
     "text": [
      "\n",
      "Tỷ lệ mưa trong các ngày Thứ Tư là: 30.19%\n",
      "Khoảng tin cậy 95% cho tỷ lệ mưa trong Thứ Tư: [17.83%, 42.55%]\n",
      "\n",
      "Tỷ lệ mưa trong các ngày Chủ Nhật là: 28.30%\n",
      "Khoảng tin cậy 95% cho tỷ lệ mưa trong Chủ Nhật: [16.17%, 40.43%]\n",
      "\n",
      "Lượng mưa trong các ngày Thứ Tư có thể xuất hiện nhiều hơn so với Chủ Nhật.\n"
     ]
    }
   ],
   "source": [
    "#Bài 3\n",
    "# Đọc dữ liệu từ file Excel\n",
    "data = pd.read_excel('14_BOSTRAIN.xls')\n",
    "\n",
    "# a. Lọc dữ liệu cho ngày Thứ Tư (WED) và Chủ Nhật (SUN)\n",
    "# Tính tỷ lệ mưa trong các ngày Thứ Tư\n",
    "mua_t4 = data['WED'] > 0  # Xác định ngày có mưa (lượng mưa > 0)\n",
    "so_ngay_mua_wed = mua_t4.sum()  # Số ngày có mưa trong Thứ Tư\n",
    "p_t4 = so_ngay_mua_wed / len(data['WED'])  # Tỷ lệ mưa trong Thứ Tư\n",
    "\n",
    "# Tính tỷ lệ mưa trong các ngày Chủ Nhật\n",
    "mua_cn = data['SUN'] > 0  # Xác định ngày có mưa (lượng mưa > 0)\n",
    "so_ngay_mua_sun = mua_cn.sum()  # Số ngày có mưa trong Chủ Nhật\n",
    "p_cn = so_ngay_mua_sun / len(data['SUN'])  # Tỷ lệ mưa trong Chủ Nhật\n",
    "\n",
    "# b. Xây dựng khoảng tin cậy 95% cho tỷ lệ mưa trong các ngày Thứ Tư\n",
    "# Công thức khoảng tin cậy cho tỷ lệ phần trăm\n",
    "z_alpha = 1.96  # Giá trị Z cho mức tin cậy 95%\n",
    "e_t4 = z_alpha * np.sqrt((p_t4 * (1 - p_t4)) / len(data['WED']))  # Độ lệch chuẩn cho Thứ Tư\n",
    "\n",
    "# b. Xây dựng khoảng tin cậy 95% cho tỷ lệ mưa trong các ngày Chủ Nhật\n",
    "e_cn = z_alpha * np.sqrt((p_cn * (1 - p_cn)) / len(data['SUN']))  # Độ lệch chuẩn cho Chủ Nhật\n",
    "\n",
    "# c. kết quả\n",
    "ket_qua = f\"\"\"\n",
    "Tỷ lệ mưa trong các ngày Thứ Tư là: {p_t4 * 100:.2f}%\n",
    "Khoảng tin cậy 95% cho tỷ lệ mưa trong Thứ Tư: [{(p_t4-e_t4)*100:.2f}%, {(p_t4+e_t4)*100:.2f}%]\n",
    "\n",
    "Tỷ lệ mưa trong các ngày Chủ Nhật là: {p_cn * 100:.2f}%\n",
    "Khoảng tin cậy 95% cho tỷ lệ mưa trong Chủ Nhật: [{(p_cn-e_cn)*100:.2f}%, {(p_cn+e_cn)*100:.2f}%]\n",
    "\"\"\"\n",
    "\n",
    "# In báo cáo kết quả\n",
    "print(ket_qua)\n",
    "\n",
    "# d. So sánh kết quả và đưa ra nhận xét\n",
    "if p_t4+e_t4 > p_cn+e_cn:\n",
    "    print(\"Lượng mưa trong các ngày Thứ Tư có thể xuất hiện nhiều hơn so với Chủ Nhật.\")\n",
    "else:\n",
    "    print(\"Lượng mưa trong các ngày Chủ Nhật có thể xuất hiện nhiều hơn so với Thứ Tư.\")"
   ]
  },
  {
   "cell_type": "code",
   "execution_count": 5,
   "metadata": {},
   "outputs": [
    {
     "name": "stdout",
     "output_type": "stream",
     "text": [
      "\n",
      "Tỷ lệ phim có bình chọn bằng 0.76 là: 4.00%\n",
      "Khoảng tin cậy 95% cho tỷ lệ phim có bình chọn là 0.76: [-1.43%, 9.43%]\n",
      "\n",
      "Có thể kết luận rằng hầu hết các phim không có tỷ lệ bình chọn bằng R.\n"
     ]
    }
   ],
   "source": [
    "# Bài 4\n",
    "# Đọc dữ liệu từ file Excel\n",
    "data = pd.read_excel('19_SCREWS.xls', header=None)\n",
    "\n",
    "# Bước 1: Tìm tỉ lệ phim có tỷ lệ bình chọn là R\n",
    "R = 0.76\n",
    "\n",
    "# Tạo danh sách phim có bình chọn là R\n",
    "phim_co_binh_chon_R = (data[0] == R).sum()  # Tính số phim có bình chọn = R\n",
    "\n",
    "# Tính tỷ lệ phim có bình chọn là R\n",
    "p = phim_co_binh_chon_R / len(data)\n",
    "\n",
    "# Bước 2: Tính khoảng tin cậy 95% cho tỷ lệ phim có bình chọn là R\n",
    "z_alpha = 1.96  # Giá trị Z cho mức tin cậy 95%\n",
    "e = z_alpha * np.sqrt((p * (1 - p)) / len(data))  # Độ lệch chuẩn\n",
    "\n",
    "# Bước 3: Viết kết quả\n",
    "ket_qua = f\"\"\"\n",
    "Tỷ lệ phim có bình chọn bằng {R} là: {p * 100:.2f}%\n",
    "Khoảng tin cậy 95% cho tỷ lệ phim có bình chọn là {R}: [{(p-e)*100:.2f}%, {(p+e)*100:.2f}%]\n",
    "\"\"\"\n",
    "\n",
    "# In báo cáo kết quả\n",
    "print(ket_qua)\n",
    "\n",
    "# Bước 4: Đánh giá kết quả\n",
    "if p+e < 100:\n",
    "    print(\"Có thể kết luận rằng hầu hết các phim không có tỷ lệ bình chọn bằng R.\")\n",
    "else:\n",
    "    print(\"Có thể kết luận rằng một tỷ lệ phim đáng kể có bình chọn bằng R.\")\n"
   ]
  },
  {
   "cell_type": "code",
   "execution_count": 6,
   "metadata": {},
   "outputs": [
    {
     "name": "stdout",
     "output_type": "stream",
     "text": [
      "\n",
      "Ước tính trung bình lợi nhuận (Profit) cho quần thể các bộ phim:\n",
      "Trung bình mẫu (Profit): 48.91 triệu đô la\n",
      "Khoảng tin cậy 95% cho lợi nhuận quần thể: [15.78 - 82.04] triệu đô la\n",
      "\n"
     ]
    }
   ],
   "source": [
    "# Bài 5\n",
    "# Đọc dữ liệu từ file Excel\n",
    "data = pd.read_excel('09_MOVIES.xls')\n",
    "\n",
    "# Bước 1: Tính lợi nhuận (Gross - Budget)\n",
    "data['Profit'] = data['Gross'] - data['Budget']\n",
    "\n",
    "# Lấy cột 'Profit' (Lợi nhuận)\n",
    "profit = data['Profit']\n",
    "\n",
    "# Bước 2: Tính trung bình mẫu và sai số chuẩn\n",
    "p = profit.mean()  # Trung bình mẫu của 'Profit'\n",
    "n = len(profit)  # Số bộ phim trong mẫu\n",
    "\n",
    "# Bước 3: Tính khoảng tin cậy 95% cho lợi nhuận\n",
    "do_lech_chuan = 100  # Độ lệch chuẩn quần thể là 100 triệu đô la (vẫn giả định như trong đề bài)\n",
    "z_alpha = 1.96  # Giá trị Z cho mức tin cậy 95%\n",
    "std_error = do_lech_chuan / np.sqrt(n)  # Sai số chuẩn mẫu\n",
    "\n",
    "# Tính mức sai số\n",
    "e = z_alpha * std_error\n",
    "\n",
    "# Bước 4: In kết quả\n",
    "ket_qua = f\"\"\"\n",
    "Ước tính trung bình lợi nhuận (Profit) cho quần thể các bộ phim:\n",
    "Trung bình mẫu (Profit): {p:.2f} triệu đô la\n",
    "Khoảng tin cậy 95% cho lợi nhuận quần thể: [{p-e:.2f} - {p+e:.2f}] triệu đô la\n",
    "\"\"\"\n",
    "\n",
    "# In báo cáo kết quả\n",
    "print(ket_qua)"
   ]
  },
  {
   "cell_type": "code",
   "execution_count": 7,
   "metadata": {},
   "outputs": [
    {
     "name": "stdout",
     "output_type": "stream",
     "text": [
      "\n",
      "Ước tính trung bình điểm FICO cho quần thể:\n",
      "Trung bình mẫu điểm FICO: 703.11\n",
      "Khoảng tin cậy 99% cho điểm FICO quần thể: [679.36, 726.86]\n",
      "\n"
     ]
    }
   ],
   "source": [
    "# Bài 6\n",
    "# Đọc dữ liệu từ file Excel\n",
    "data = pd.read_excel('24_FICO.xls', header=None)\n",
    "\n",
    "# Lấy cột dữ liệu đầu tiên (chỉ có một cột duy nhất)\n",
    "fico_scores = data[0]\n",
    "\n",
    "# Bước 1: Tính trung bình mẫu và sai số chuẩn\n",
    "p = fico_scores.mean()  # Trung bình mẫu của điểm FICO\n",
    "n = len(fico_scores)  # Số lượng dữ liệu trong mẫu\n",
    "\n",
    "# Bước 2: Tính khoảng tin cậy 99% cho điểm FICO\n",
    "do_lech_chuan = 92.2  # Độ lệch chuẩn quần thể là 92.2\n",
    "z_alpha = 2.576  # Giá trị Z cho mức tin cậy 99%\n",
    "std_error = do_lech_chuan / np.sqrt(n)  # Sai số chuẩn mẫu\n",
    "\n",
    "# Tính mức sai số\n",
    "e = z_alpha * std_error\n",
    "\n",
    "# Bước 3: In kết quả\n",
    "ket_qua = f\"\"\"\n",
    "Ước tính trung bình điểm FICO cho quần thể:\n",
    "Trung bình mẫu điểm FICO: {p:.2f}\n",
    "Khoảng tin cậy 99% cho điểm FICO quần thể: [{p - e:.2f}, {p + e:.2f}]\n",
    "\"\"\"\n",
    "\n",
    "# In báo cáo kết quả\n",
    "print(ket_qua)"
   ]
  },
  {
   "cell_type": "code",
   "execution_count": 8,
   "metadata": {},
   "outputs": [
    {
     "name": "stdout",
     "output_type": "stream",
     "text": [
      "\n",
      "Tỷ lệ nicotine trong thuốc lá cỡ king (không lọc, không menthol, không ánh sáng):\n",
      "- Trung bình mẫu lượng nicotine: 1.26 kg\n",
      "- Khoảng tin cậy 95%: [-34.89, 37.40] kg\n",
      "\n",
      "Tỷ lệ nicotine trong thuốc lá chiều dài 100 mm (được lọc, không menthol, không ánh sáng):\n",
      "- Trung bình mẫu lượng nicotine: 0.92 kg\n",
      "- Khoảng tin cậy 95%: [-35.23, 37.06] kg\n",
      "\n",
      "Đánh giá:\n",
      "Bộ lọc không có tác dụng rõ rệt trong việc giảm lượng nicotine.\n",
      "\n"
     ]
    }
   ],
   "source": [
    "# Bài 7\n",
    "# Đọc dữ liệu từ file Excel\n",
    "data = pd.read_excel('04_CIGARET.xls')\n",
    "\n",
    "# Bước 1: Lấy các cột cần thiết\n",
    "kg_nic = data['KgNic']  # Lượng nicotine trong thuốc lá cỡ king (không lọc, không menthol, không ánh sáng)\n",
    "fl_nic = data['FLNic']  # Lượng nicotine trong thuốc lá chiều dài 100 mm (được lọc, không menthol, không ánh sáng)\n",
    "\n",
    "# Bước 2: Tính trung bình mẫu và sai số chuẩn mẫu cho cả hai nhóm\n",
    "p_kg_nic = kg_nic.mean()  # Trung bình mẫu cho KgNic\n",
    "p_fl_nic = fl_nic.mean()  # Trung bình mẫu cho FLNic\n",
    "\n",
    "n_kg_nic = len(kg_nic)  # Số lượng mẫu trong cột KgNic\n",
    "n_fl_nic = len(fl_nic)  # Số lượng mẫu trong cột FLNic\n",
    "\n",
    "# Độ lệch chuẩn quần thể giả định là không có (giả sử quần thể phân phối chuẩn và độ lệch chuẩn không có sẵn)\n",
    "sigma = 92.2  # Giả sử độ lệch chuẩn quần thể là 92.2\n",
    "\n",
    "# Bước 3: Tính sai số chuẩn mẫu\n",
    "std_error_kg_nic = sigma / np.sqrt(n_kg_nic)  # Sai số chuẩn mẫu cho KgNic\n",
    "std_error_fl_nic = sigma / np.sqrt(n_fl_nic)  # Sai số chuẩn mẫu cho FLNic\n",
    "\n",
    "# Bước 4: Tính mức sai số (margin of error)\n",
    "z_alpha = 1.96  # Giá trị Z cho mức tin cậy 95%\n",
    "e_kg_nic = z_alpha * std_error_kg_nic  # Mức sai số cho KgNic\n",
    "e_fl_nic = z_alpha * std_error_fl_nic  # Mức sai số cho FLNic\n",
    "\n",
    "# Bước 5: In kết quả\n",
    "if p_fl_nic + e_fl_nic < p_kg_nic - e_kg_nic:\n",
    "    danh_gia = \"Bộ lọc có hiệu quả trong việc giảm lượng nicotine, vì khoảng tin cậy cho thuốc lá có bộ lọc thấp hơn thuốc lá không lọc.\"\n",
    "else:\n",
    "    danh_gia = \"Bộ lọc không có tác dụng rõ rệt trong việc giảm lượng nicotine.\"\n",
    "ket_qua = f\"\"\"\n",
    "Tỷ lệ nicotine trong thuốc lá cỡ king (không lọc, không menthol, không ánh sáng):\n",
    "- Trung bình mẫu lượng nicotine: {p_kg_nic:.2f} kg\n",
    "- Khoảng tin cậy 95%: [{p_kg_nic - e_kg_nic:.2f}, {p_kg_nic + e_kg_nic:.2f}] kg\n",
    "\n",
    "Tỷ lệ nicotine trong thuốc lá chiều dài 100 mm (được lọc, không menthol, không ánh sáng):\n",
    "- Trung bình mẫu lượng nicotine: {p_fl_nic:.2f} kg\n",
    "- Khoảng tin cậy 95%: [{p_fl_nic - e_fl_nic:.2f}, {p_fl_nic + e_fl_nic:.2f}] kg\n",
    "\n",
    "Đánh giá:\n",
    "{danh_gia}\n",
    "\"\"\"\n",
    "\n",
    "# In báo cáo kết quả\n",
    "print(ket_qua)\n"
   ]
  },
  {
   "cell_type": "code",
   "execution_count": 9,
   "metadata": {},
   "outputs": [
    {
     "name": "stdout",
     "output_type": "stream",
     "text": [
      "\n",
      "Ước lượng khoảng tin cậy 95% cho nhịp tim trung bình:\n",
      "\n",
      "- Nam:\n",
      "  Trung bình nhịp tim: 69.40\n",
      "  Khoảng tin cậy 95%: [65.90 - 72.90]\n",
      "\n",
      "- Nữ:\n",
      "  Trung bình nhịp tim: 76.30\n",
      "  Khoảng tin cậy 95%: [72.43, 80.17]\n",
      "\n",
      "- Kết luận: Không có sự khác biệt đáng kể giữa trung bình nhịp tim của nam và nữ.\n",
      "\n"
     ]
    }
   ],
   "source": [
    "# Bài 8\n",
    "# Đọc dữ liệu từ file Excel\n",
    "data_nu = pd.read_excel('01_FHEALTH.xls')\n",
    "data_nam = pd.read_excel('01_MHEALTH.xls')\n",
    "\n",
    "# Tính toán trung bình, độ lệch chuẩn và kích thước mẫu cho mỗi nhóm\n",
    "mean_nam = data_nam['PULSE'].mean()\n",
    "std_nam = data_nam['PULSE'].std()\n",
    "n_nam = len(data_nam)\n",
    "\n",
    "mean_nu = data_nu['PULSE'].mean()\n",
    "std_nu = data_nu['PULSE'].std()\n",
    "n_nu = len(data_nu)\n",
    "\n",
    "# Tính sai số chuẩn cho mỗi nhóm\n",
    "std_error_nam = std_nam / np.sqrt(n_nam)\n",
    "std_error_nu = std_nu / np.sqrt(n_nu)\n",
    "\n",
    "# Tính khoảng tin cậy 95% cho nhịp tim trung bình của nam\n",
    "z_alpha = 1.96  # Giá trị Z cho khoảng tin cậy 95%\n",
    "e_nam = z_alpha * std_error_nam\n",
    "\n",
    "# Tính khoảng tin cậy 95% cho nhịp tim trung bình của nữ\n",
    "e_nu = z_alpha * std_error_nu\n",
    "\n",
    "# In kết quả ước lượng\n",
    "# So sánh kết quả\n",
    "if mean_nam + e_nam < mean_nu - e_nu or mean_nu + e_nu < mean_nam - e_nam:\n",
    "    ket_luan = \"Chúng ta có thể kết luận rằng trung bình nhịp tim của nam và nữ có sự khác biệt đáng kể.\"\n",
    "else:\n",
    "    ket_luan = \"Không có sự khác biệt đáng kể giữa trung bình nhịp tim của nam và nữ.\"\n",
    "ket_qua = f\"\"\"\n",
    "Ước lượng khoảng tin cậy 95% cho nhịp tim trung bình:\n",
    "\n",
    "- Nam:\n",
    "  Trung bình nhịp tim: {mean_nam:.2f}\n",
    "  Khoảng tin cậy 95%: [{mean_nam - e_nam:.2f} - {mean_nam + e_nam:.2f}]\n",
    "\n",
    "- Nữ:\n",
    "  Trung bình nhịp tim: {mean_nu:.2f}\n",
    "  Khoảng tin cậy 95%: [{mean_nu - e_nu:.2f}, {mean_nu + e_nu:.2f}]\n",
    "\n",
    "- Kết luận: {ket_luan}\n",
    "\"\"\"\n",
    "\n",
    "# In báo cáo kết quả\n",
    "print(ket_qua)"
   ]
  }
 ],
 "metadata": {
  "kernelspec": {
   "display_name": "Python 3",
   "language": "python",
   "name": "python3"
  },
  "language_info": {
   "codemirror_mode": {
    "name": "ipython",
    "version": 3
   },
   "file_extension": ".py",
   "mimetype": "text/x-python",
   "name": "python",
   "nbconvert_exporter": "python",
   "pygments_lexer": "ipython3",
   "version": "3.12.7"
  }
 },
 "nbformat": 4,
 "nbformat_minor": 2
}
